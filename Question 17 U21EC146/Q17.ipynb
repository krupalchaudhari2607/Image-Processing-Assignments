{
 "cells": [
  {
   "cell_type": "code",
   "execution_count": 4,
   "metadata": {},
   "outputs": [],
   "source": [
    "import cv2\n",
    "import numpy as np"
   ]
  },
  {
   "cell_type": "code",
   "execution_count": 5,
   "metadata": {},
   "outputs": [],
   "source": [
    "image = cv2.imread('lenna.png')"
   ]
  },
  {
   "cell_type": "code",
   "execution_count": 6,
   "metadata": {},
   "outputs": [],
   "source": [
    "degraded_image = cv2.blur(image, (5, 5))"
   ]
  },
  {
   "cell_type": "code",
   "execution_count": 7,
   "metadata": {},
   "outputs": [],
   "source": [
    "noise = np.random.normal(0, 0.1, image.shape)\n",
    "noisy_image = degraded_image + noise"
   ]
  },
  {
   "cell_type": "code",
   "execution_count": 8,
   "metadata": {},
   "outputs": [
    {
     "ename": "error",
     "evalue": "OpenCV(4.8.1) :-1: error: (-5:Bad argument) in function 'boxFilter'\n> Overload resolution failed:\n>  - Can't parse 'ksize'. Input argument doesn't provide sequence protocol\n>  - Can't parse 'ksize'. Input argument doesn't provide sequence protocol\n",
     "output_type": "error",
     "traceback": [
      "\u001b[0;31m---------------------------------------------------------------------------\u001b[0m",
      "\u001b[0;31merror\u001b[0m                                     Traceback (most recent call last)",
      "\u001b[1;32m/Users/DEVDESAI1/Desktop/Projects/DIP/Q17.ipynb Cell 5\u001b[0m line \u001b[0;36m1\n\u001b[0;32m----> <a href='vscode-notebook-cell:/Users/DEVDESAI1/Desktop/Projects/DIP/Q17.ipynb#W4sZmlsZQ%3D%3D?line=0'>1</a>\u001b[0m filtered_image \u001b[39m=\u001b[39m cv2\u001b[39m.\u001b[39mfilter2D(noisy_image, \u001b[39m-\u001b[39m\u001b[39m1\u001b[39m, np\u001b[39m.\u001b[39mlinalg\u001b[39m.\u001b[39minv(cv2\u001b[39m.\u001b[39;49mboxFilter(np\u001b[39m.\u001b[39;49meye(image\u001b[39m.\u001b[39;49mshape[\u001b[39m0\u001b[39;49m], image\u001b[39m.\u001b[39;49mshape[\u001b[39m1\u001b[39;49m]), \u001b[39m-\u001b[39;49m\u001b[39m1\u001b[39;49m, np\u001b[39m.\u001b[39;49mfloat32)))\n",
      "\u001b[0;31merror\u001b[0m: OpenCV(4.8.1) :-1: error: (-5:Bad argument) in function 'boxFilter'\n> Overload resolution failed:\n>  - Can't parse 'ksize'. Input argument doesn't provide sequence protocol\n>  - Can't parse 'ksize'. Input argument doesn't provide sequence protocol\n"
     ]
    }
   ],
   "source": [
    "filtered_image = cv2.filter2D(noisy_image, -1, np.linalg.inv(cv2.boxFilter(np.eye(image.shape[0], image.shape[1]), -1, np.float32)))"
   ]
  },
  {
   "cell_type": "code",
   "execution_count": null,
   "metadata": {},
   "outputs": [],
   "source": [
    "cv2.imshow('Original Image', image)\n",
    "cv2.imshow('Degraded Image', degraded_image)\n",
    "cv2.imshow('Noisy Image', noisy_image)\n",
    "cv2.imshow('Filtered Image', filtered_image)"
   ]
  }
 ],
 "metadata": {
  "kernelspec": {
   "display_name": "Python 3",
   "language": "python",
   "name": "python3"
  },
  "language_info": {
   "codemirror_mode": {
    "name": "ipython",
    "version": 3
   },
   "file_extension": ".py",
   "mimetype": "text/x-python",
   "name": "python",
   "nbconvert_exporter": "python",
   "pygments_lexer": "ipython3",
   "version": "3.11.3"
  }
 },
 "nbformat": 4,
 "nbformat_minor": 2
}
